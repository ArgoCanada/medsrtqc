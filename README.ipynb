{
 "metadata": {
  "language_info": {
   "codemirror_mode": {
    "name": "ipython",
    "version": 3
   },
   "file_extension": ".py",
   "mimetype": "text/x-python",
   "name": "python",
   "nbconvert_exporter": "python",
   "pygments_lexer": "ipython3",
   "version": 3
  },
  "orig_nbformat": 4
 },
 "nbformat": 4,
 "nbformat_minor": 2,
 "cells": [
  {
   "source": [
    "# medsrtqc\n",
    "\n",
    "[![Build](https://github.com/paleolimbot/medsrtqc/actions/workflows/build.yaml/badge.svg)](https://github.com/paleolimbot/medsrtqc/actions/workflows/build.yaml)\n",
    "[![Codecov test coverage](https://codecov.io/gh/paleolimbot/medsrtqc/branch/master/graph/badge.svg)](https://codecov.io/gh/paleolimbot/medsrtqc?branch=master)\n",
    "\n",
    "A possible container for MEDS real-time quality control code.\n",
    "\n",
    "## Installation\n",
    "\n",
    "You can install the `medsrtqc` package using `pip`.\n",
    "\n",
    "``` bash\n",
    "pip install git+https://github.com/paleolimbot/medsrtqc.git\n",
    "```"
   ],
   "cell_type": "markdown",
   "metadata": {}
  },
  {
   "cell_type": "code",
   "execution_count": null,
   "metadata": {},
   "outputs": [],
   "source": []
  }
 ]
}